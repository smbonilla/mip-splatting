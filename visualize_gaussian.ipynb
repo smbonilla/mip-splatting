{
 "cells": [
  {
   "cell_type": "code",
   "execution_count": 1,
   "metadata": {},
   "outputs": [],
   "source": [
    "from utils.gaussian_viewing_utils import * \n",
    "import matplotlib.pyplot as plt\n",
    "import os\n",
    "from moviepy.editor import ImageSequenceClip\n",
    "from gaussian_renderer import render\n",
    "from scene.gaussian_model import GaussianModel\n",
    "from scene.cameras import Camera as GSCamera\n",
    "#import kaolin\n",
    "\n",
    "#def log_tensor(t, name, **kwargs):\n",
    "#    print(kaolin.utils.testing.tensor_info(t, name=name, **kwargs))"
   ]
  },
  {
   "cell_type": "code",
   "execution_count": 3,
   "metadata": {},
   "outputs": [],
   "source": [
    "model_path = '/raid/scratch_not_backed_up/sbonilla/gaussian_ready_c3v4/mip-output-noeval-no-factor'\n",
    "\n",
    "# Number of views\n",
    "num_views = 140\n",
    "\n",
    "# Camera ID\n",
    "novel_view_camera_id = 3   \n",
    "\n",
    "# Mask visualization output\n",
    "output_path = '/home/sbonilla/gaussian-splatting/output/f8df57c9-c/visualization/scaling-masks.mp4'\n",
    "\n",
    "# Novel view visualization output\n",
    "nv_output_path = f'/raid/scratch_not_backed_up/sbonilla/gaussian_ready_c3v4/mip-output-noeval-no-factor/visualization/novel-views-around-camera-id{novel_view_camera_id}-y.mp4'"
   ]
  },
  {
   "cell_type": "code",
   "execution_count": 4,
   "metadata": {},
   "outputs": [],
   "source": [
    "class PipelineParamsNoparse:\n",
    "    \"\"\" Same as PipelineParams but without argument parser. \"\"\"\n",
    "    def __init__(self):\n",
    "        self.convert_SHs_python = False\n",
    "        self.compute_cov3D_python = False                      \n",
    "        self.debug = False\n",
    "\n",
    "        \n",
    "def load_checkpoint(model_path, sh_degree=3, iteration=-1):\n",
    "    # Find checkpoint\n",
    "    checkpt_dir = os.path.join(model_path, \"point_cloud\")\n",
    "    if iteration == -1:\n",
    "        iteration = searchForMaxIteration(checkpt_dir)\n",
    "    checkpt_path = os.path.join(checkpt_dir, f\"iteration_{iteration}\", \"point_cloud.ply\")\n",
    "    \n",
    "    # Load guassians\n",
    "    gaussians = GaussianModel(sh_degree)\n",
    "    gaussians.load_ply(checkpt_path)                                                 \n",
    "    return gaussians\n",
    "\n",
    "\n",
    "def try_load_camera(model_path, idx=0):\n",
    "    \"\"\" Load one of the default cameras for the scene. \"\"\"\n",
    "    cam_path = os.path.join(model_path, 'cameras.json')\n",
    "    if not os.path.exists(cam_path):\n",
    "        print(f'Could not find saved cameras for the scene at {cam_path}; using default for ficus.')\n",
    "        return GSCamera(colmap_id=0,\n",
    "                        R=np.array([[-9.9037e-01,  2.3305e-02, -1.3640e-01], [ 1.3838e-01,  1.6679e-01, -9.7623e-01], [-1.6444e-09, -9.8571e-01, -1.6841e-01]]), \n",
    "                        T=np.array([6.8159e-09, 2.0721e-10, 4.03112e+00]), \n",
    "                        FoVx=0.69111120, FoVy=0.69111120, \n",
    "                        image=torch.zeros((3, 800, 800)),  # fake \n",
    "                        gt_alpha_mask=None, image_name='fake', uid=0)\n",
    "        \n",
    "    with open(cam_path) as f:\n",
    "        data = json.load(f)\n",
    "        raw_camera = data[idx]\n",
    "        \n",
    "    tmp = np.zeros((4, 4))\n",
    "    tmp[:3, :3] = raw_camera['rotation']\n",
    "    tmp[:3, 3] = raw_camera['position']\n",
    "    tmp[3, 3] = 1\n",
    "    name = raw_camera['img_name']\n",
    "    C2W = np.linalg.inv(tmp)\n",
    "    R = C2W[:3, :3].transpose()\n",
    "    T = C2W[:3, 3]\n",
    "    width = raw_camera['width']\n",
    "    height = raw_camera['height']\n",
    "    fovx = focal2fov(raw_camera['fx'], width)\n",
    "    fovy = focal2fov(raw_camera['fy'], height)\n",
    "    return GSCamera(colmap_id=0,\n",
    "                    R=R, T=T, FoVx=fovx, FoVy=fovy, \n",
    "                    image=torch.zeros((3, height, width)),  # fake \n",
    "                    gt_alpha_mask=None, image_name=name, uid=0)\n",
    "\n",
    "def load_camera_map(camera_file, name_convention='id.png'):\n",
    "    with open(camera_file, 'r') as f:\n",
    "        data = json.load(f)\n",
    "    if name_convention == 'id.png':\n",
    "        return {int(cam['img_name']): cam['id'] for cam in data}\n",
    "    elif name_convention == 'id_color.jpg':\n",
    "        return {int(cam['img_name'].split('_')[0]): cam['id_color'] for cam in data}\n",
    "    else:\n",
    "        raise ValueError('name_convention not recognized')\n",
    "\n",
    "gaussians = load_checkpoint(model_path)\n",
    "pipeline = PipelineParamsNoparse()\n",
    "background = torch.tensor([0, 0, 0], dtype=torch.float32, device=\"cuda\")\n",
    "center_camera = try_load_camera(model_path, idx=novel_view_camera_id)"
   ]
  },
  {
   "cell_type": "code",
   "execution_count": 5,
   "metadata": {},
   "outputs": [
    {
     "name": "stdout",
     "output_type": "stream",
     "text": [
      "Thu Nov 30 15:48:48 2023       \n",
      "+-----------------------------------------------------------------------------+\n",
      "| NVIDIA-SMI 470.103.01   Driver Version: 470.103.01   CUDA Version: 11.4     |\n",
      "|-------------------------------+----------------------+----------------------+\n",
      "| GPU  Name        Persistence-M| Bus-Id        Disp.A | Volatile Uncorr. ECC |\n",
      "| Fan  Temp  Perf  Pwr:Usage/Cap|         Memory-Usage | GPU-Util  Compute M. |\n",
      "|                               |                      |               MIG M. |\n",
      "|===============================+======================+======================|\n",
      "|   0  NVIDIA A100-SXM...  Off  | 00000000:07:00.0 Off |                    0 |\n",
      "| N/A   32C    P0    74W / 400W |  24766MiB / 40536MiB |      0%      Default |\n",
      "|                               |                      |             Disabled |\n",
      "+-------------------------------+----------------------+----------------------+\n",
      "|   1  NVIDIA A100-SXM...  Off  | 00000000:0F:00.0 Off |                    0 |\n",
      "| N/A   52C    P0   213W / 400W |  10837MiB / 40536MiB |     98%      Default |\n",
      "|                               |                      |             Disabled |\n",
      "+-------------------------------+----------------------+----------------------+\n",
      "|   2  NVIDIA A100-SXM...  Off  | 00000000:47:00.0 Off |                    0 |\n",
      "| N/A   52C    P0   369W / 400W |  21863MiB / 40536MiB |     89%      Default |\n",
      "|                               |                      |             Disabled |\n",
      "+-------------------------------+----------------------+----------------------+\n",
      "|   3  NVIDIA A100-SXM...  Off  | 00000000:4E:00.0 Off |                    0 |\n",
      "| N/A   30C    P0    52W / 400W |      3MiB / 40536MiB |      0%      Default |\n",
      "|                               |                      |             Disabled |\n",
      "+-------------------------------+----------------------+----------------------+\n",
      "|   4  NVIDIA A100-SXM...  Off  | 00000000:87:00.0 Off |                    0 |\n",
      "| N/A   36C    P0    58W / 400W |      3MiB / 40536MiB |      0%      Default |\n",
      "|                               |                      |             Disabled |\n",
      "+-------------------------------+----------------------+----------------------+\n",
      "|   5  NVIDIA A100-SXM...  Off  | 00000000:90:00.0 Off |                    0 |\n",
      "| N/A   44C    P0    57W / 400W |      3MiB / 40536MiB |      0%      Default |\n",
      "|                               |                      |             Disabled |\n",
      "+-------------------------------+----------------------+----------------------+\n",
      "|   6  NVIDIA A100-SXM...  Off  | 00000000:B7:00.0 Off |                    0 |\n",
      "| N/A   41C    P0    56W / 400W |      3MiB / 40536MiB |      0%      Default |\n",
      "|                               |                      |             Disabled |\n",
      "+-------------------------------+----------------------+----------------------+\n",
      "|   7  NVIDIA A100-SXM...  Off  | 00000000:BD:00.0 Off |                    0 |\n",
      "| N/A   38C    P0    94W / 400W |  34828MiB / 40536MiB |     38%      Default |\n",
      "|                               |                      |             Disabled |\n",
      "+-------------------------------+----------------------+----------------------+\n",
      "                                                                               \n",
      "+-----------------------------------------------------------------------------+\n",
      "| Processes:                                                                  |\n",
      "|  GPU   GI   CI        PID   Type   Process name                  GPU Memory |\n",
      "|        ID   ID                                                   Usage      |\n",
      "|=============================================================================|\n",
      "+-----------------------------------------------------------------------------+\n"
     ]
    }
   ],
   "source": [
    "!nvidia-smi"
   ]
  },
  {
   "cell_type": "code",
   "execution_count": 6,
   "metadata": {},
   "outputs": [],
   "source": [
    "!export CUDA_VISIBLE_DEVICES=6"
   ]
  },
  {
   "cell_type": "code",
   "execution_count": 8,
   "metadata": {},
   "outputs": [
    {
     "ename": "AttributeError",
     "evalue": "'GaussianModel' object has no attribute 'filter_3D'",
     "output_type": "error",
     "traceback": [
      "\u001b[0;31m---------------------------------------------------------------------------\u001b[0m",
      "\u001b[0;31mAttributeError\u001b[0m                            Traceback (most recent call last)",
      "\u001b[1;32m/home/sbonilla/mip-splatting/visualize_gaussian.ipynb Cell 6\u001b[0m line \u001b[0;36m1\n\u001b[0;32m----> <a href='vscode-notebook-cell://attached-container%2B7b22636f6e7461696e65724e616d65223a222f7a656e5f627261686d616775707461227d@ssh-remote%2Bhoover.cs.ucl.ac.uk/home/sbonilla/mip-splatting/visualize_gaussian.ipynb#W5sdnNjb2RlLXJlbW90ZQ%3D%3D?line=0'>1</a>\u001b[0m img_array \u001b[39m=\u001b[39m render_mask_gaussians(model_path, percent_of_gaussians\u001b[39m=\u001b[39;49m\u001b[39m0.6\u001b[39;49m, camera_index\u001b[39m=\u001b[39;49mnovel_view_camera_id, kernel_size\u001b[39m=\u001b[39;49m\u001b[39m0.1\u001b[39;49m)\n\u001b[1;32m      <a href='vscode-notebook-cell://attached-container%2B7b22636f6e7461696e65724e616d65223a222f7a656e5f627261686d616775707461227d@ssh-remote%2Bhoover.cs.ucl.ac.uk/home/sbonilla/mip-splatting/visualize_gaussian.ipynb#W5sdnNjb2RlLXJlbW90ZQ%3D%3D?line=1'>2</a>\u001b[0m img \u001b[39m=\u001b[39m Image\u001b[39m.\u001b[39mfromarray(img_array, \u001b[39m'\u001b[39m\u001b[39mRGB\u001b[39m\u001b[39m'\u001b[39m)\n\u001b[1;32m      <a href='vscode-notebook-cell://attached-container%2B7b22636f6e7461696e65724e616d65223a222f7a656e5f627261686d616775707461227d@ssh-remote%2Bhoover.cs.ucl.ac.uk/home/sbonilla/mip-splatting/visualize_gaussian.ipynb#W5sdnNjb2RlLXJlbW90ZQ%3D%3D?line=2'>3</a>\u001b[0m plt\u001b[39m.\u001b[39mimshow(img)\n",
      "File \u001b[0;32m~/mip-splatting/utils/gaussian_viewing_utils.py:263\u001b[0m, in \u001b[0;36mrender_mask_gaussians\u001b[0;34m(model_path, percent_of_gaussians, camera_index, kernel_size)\u001b[0m\n\u001b[1;32m    260\u001b[0m tmp_gaussians\u001b[39m.\u001b[39mactive_sh_degree \u001b[39m=\u001b[39m gaussians\u001b[39m.\u001b[39mmax_sh_degree\n\u001b[1;32m    262\u001b[0m cam \u001b[39m=\u001b[39m load_camera(model_path, camera_index)\n\u001b[0;32m--> 263\u001b[0m render_res \u001b[39m=\u001b[39m render(cam, tmp_gaussians, pipeline, background, kernel_size)\n\u001b[1;32m    264\u001b[0m rendering \u001b[39m=\u001b[39m render_res[\u001b[39m\"\u001b[39m\u001b[39mrender\u001b[39m\u001b[39m\"\u001b[39m]\n\u001b[1;32m    265\u001b[0m \u001b[39mreturn\u001b[39;00m (rendering\u001b[39m.\u001b[39mpermute(\u001b[39m1\u001b[39m, \u001b[39m2\u001b[39m, \u001b[39m0\u001b[39m) \u001b[39m*\u001b[39m \u001b[39m255\u001b[39m)\u001b[39m.\u001b[39mto(torch\u001b[39m.\u001b[39muint8)\u001b[39m.\u001b[39mdetach()\u001b[39m.\u001b[39mcpu()\u001b[39m.\u001b[39mnumpy()\n",
      "File \u001b[0;32m~/mip-splatting/gaussian_renderer/__init__.py:60\u001b[0m, in \u001b[0;36mrender\u001b[0;34m(viewpoint_camera, pc, pipe, bg_color, kernel_size, scaling_modifier, override_color, subpixel_offset)\u001b[0m\n\u001b[1;32m     58\u001b[0m means3D \u001b[39m=\u001b[39m pc\u001b[39m.\u001b[39mget_xyz\n\u001b[1;32m     59\u001b[0m means2D \u001b[39m=\u001b[39m screenspace_points\n\u001b[0;32m---> 60\u001b[0m opacity \u001b[39m=\u001b[39m pc\u001b[39m.\u001b[39;49mget_opacity_with_3D_filter\n\u001b[1;32m     62\u001b[0m \u001b[39m# If precomputed 3d covariance is provided, use it. If not, then it will be computed from\u001b[39;00m\n\u001b[1;32m     63\u001b[0m \u001b[39m# scaling / rotation by the rasterizer.\u001b[39;00m\n\u001b[1;32m     64\u001b[0m scales \u001b[39m=\u001b[39m \u001b[39mNone\u001b[39;00m\n",
      "File \u001b[0;32m~/mip-splatting/scene/gaussian_model.py:134\u001b[0m, in \u001b[0;36mGaussianModel.get_opacity_with_3D_filter\u001b[0;34m(self)\u001b[0m\n\u001b[1;32m    131\u001b[0m scales_square \u001b[39m=\u001b[39m torch\u001b[39m.\u001b[39msquare(scales)\n\u001b[1;32m    132\u001b[0m det1 \u001b[39m=\u001b[39m scales_square\u001b[39m.\u001b[39mprod(dim\u001b[39m=\u001b[39m\u001b[39m1\u001b[39m)\n\u001b[0;32m--> 134\u001b[0m scales_after_square \u001b[39m=\u001b[39m scales_square \u001b[39m+\u001b[39m torch\u001b[39m.\u001b[39msquare(\u001b[39mself\u001b[39;49m\u001b[39m.\u001b[39;49mfilter_3D) \n\u001b[1;32m    135\u001b[0m det2 \u001b[39m=\u001b[39m scales_after_square\u001b[39m.\u001b[39mprod(dim\u001b[39m=\u001b[39m\u001b[39m1\u001b[39m) \n\u001b[1;32m    136\u001b[0m coef \u001b[39m=\u001b[39m torch\u001b[39m.\u001b[39msqrt(det1 \u001b[39m/\u001b[39m det2)\n",
      "\u001b[0;31mAttributeError\u001b[0m: 'GaussianModel' object has no attribute 'filter_3D'"
     ]
    }
   ],
   "source": [
    "#img_array = render_mask_gaussians(model_path, percent_of_gaussians=0.6, camera_index=novel_view_camera_id, kernel_size=0.1)\n",
    "#img = Image.fromarray(img_array, 'RGB')\n",
    "#plt.imshow(img)"
   ]
  },
  {
   "cell_type": "code",
   "execution_count": 7,
   "metadata": {},
   "outputs": [
    {
     "name": "stdout",
     "output_type": "stream",
     "text": [
      "Moviepy - Building video /raid/scratch_not_backed_up/sbonilla/gaussian_ready_c3v4/mip-output-noeval-no-factor/visualization/novel-views-around-camera-id3-z.mp4.\n",
      "Moviepy - Writing video /raid/scratch_not_backed_up/sbonilla/gaussian_ready_c3v4/mip-output-noeval-no-factor/visualization/novel-views-around-camera-id3-z.mp4\n",
      "\n"
     ]
    },
    {
     "name": "stderr",
     "output_type": "stream",
     "text": [
      "                                                            \r"
     ]
    },
    {
     "name": "stdout",
     "output_type": "stream",
     "text": [
      "Moviepy - Done !\n",
      "Moviepy - video ready /raid/scratch_not_backed_up/sbonilla/gaussian_ready_c3v4/mip-output-noeval-no-factor/visualization/novel-views-around-camera-id3-z.mp4\n",
      "Video saved to /raid/scratch_not_backed_up/sbonilla/gaussian_ready_c3v4/mip-output-noeval-no-factor/visualization/novel-views-around-camera-id3-z.mp4\n"
     ]
    }
   ],
   "source": [
    "render_rotate_about_x_path_video(model_path, novel_view_camera_id, 5, 20, nv_output_path, num_steps=60, num_repeats=1, kernel_size=0.1)"
   ]
  },
  {
   "cell_type": "code",
   "execution_count": 18,
   "metadata": {},
   "outputs": [],
   "source": [
    "images = []\n",
    "\n",
    "cam_path = os.path.join(model_path, 'cameras.json')\n",
    "camera_idx_map = load_camera_map(cam_path)\n",
    "\n",
    "for i in range(num_views):\n",
    "    camera_idx = camera_idx_map.get(i)\n",
    "    if camera_idx is not None:\n",
    "        img_array = render_mask_gaussians(model_path, percent_of_gaussians=i/num_views, camera_index=camera_idx)\n",
    "        images.append(img_array)"
   ]
  },
  {
   "cell_type": "code",
   "execution_count": 20,
   "metadata": {},
   "outputs": [
    {
     "name": "stdout",
     "output_type": "stream",
     "text": [
      "Moviepy - Building video /home/sbonilla/gaussian-splatting/output/f8df57c9-c/visualization/scaling-masks.mp4.\n",
      "Moviepy - Writing video /home/sbonilla/gaussian-splatting/output/f8df57c9-c/visualization/scaling-masks.mp4\n",
      "\n"
     ]
    },
    {
     "name": "stderr",
     "output_type": "stream",
     "text": [
      "                                                              \r"
     ]
    },
    {
     "name": "stdout",
     "output_type": "stream",
     "text": [
      "Moviepy - Done !\n",
      "Moviepy - video ready /home/sbonilla/gaussian-splatting/output/f8df57c9-c/visualization/scaling-masks.mp4\n",
      "Video saved to /home/sbonilla/gaussian-splatting/output/f8df57c9-c/visualization/scaling-masks.mp4\n"
     ]
    }
   ],
   "source": [
    "# create video from all frames in full_path using moviepy\n",
    "clip = ImageSequenceClip(images, fps=15)\n",
    "clip.write_videofile(output_path, codec='libx264', audio=False)\n",
    "print(f'Video saved to {output_path}')"
   ]
  },
  {
   "cell_type": "code",
   "execution_count": 3,
   "metadata": {},
   "outputs": [
    {
     "ename": "ValueError",
     "evalue": "cannot reshape array of size 3 into shape (3,3)",
     "output_type": "error",
     "traceback": [
      "\u001b[0;31m---------------------------------------------------------------------------\u001b[0m",
      "\u001b[0;31mValueError\u001b[0m                                Traceback (most recent call last)",
      "\u001b[1;32m/home/sbonilla/gaussian-splatting/visualize_gaussian.ipynb Cell 9\u001b[0m line \u001b[0;36m<cell line: 1>\u001b[0;34m()\u001b[0m\n\u001b[0;32m----> <a href='vscode-notebook-cell://attached-container%2B7b22636f6e7461696e65724e616d65223a222f7a656e5f627261686d616775707461227d@ssh-remote%2Bhoover.cs.ucl.ac.uk/home/sbonilla/gaussian-splatting/visualize_gaussian.ipynb#X24sdnNjb2RlLXJlbW90ZQ%3D%3D?line=0'>1</a>\u001b[0m render_circular_conical_path_video(model_path\u001b[39m=\u001b[39;49mmodel_path, \n\u001b[1;32m      <a href='vscode-notebook-cell://attached-container%2B7b22636f6e7461696e65724e616d65223a222f7a656e5f627261686d616775707461227d@ssh-remote%2Bhoover.cs.ucl.ac.uk/home/sbonilla/gaussian-splatting/visualize_gaussian.ipynb#X24sdnNjb2RlLXJlbW90ZQ%3D%3D?line=1'>2</a>\u001b[0m                                    num_views\u001b[39m=\u001b[39;49mnum_views, \n\u001b[1;32m      <a href='vscode-notebook-cell://attached-container%2B7b22636f6e7461696e65724e616d65223a222f7a656e5f627261686d616775707461227d@ssh-remote%2Bhoover.cs.ucl.ac.uk/home/sbonilla/gaussian-splatting/visualize_gaussian.ipynb#X24sdnNjb2RlLXJlbW90ZQ%3D%3D?line=2'>3</a>\u001b[0m                                    center_camera_idx\u001b[39m=\u001b[39;49mnovel_view_camera_id, \n\u001b[1;32m      <a href='vscode-notebook-cell://attached-container%2B7b22636f6e7461696e65724e616d65223a222f7a656e5f627261686d616775707461227d@ssh-remote%2Bhoover.cs.ucl.ac.uk/home/sbonilla/gaussian-splatting/visualize_gaussian.ipynb#X24sdnNjb2RlLXJlbW90ZQ%3D%3D?line=3'>4</a>\u001b[0m                                    output_path\u001b[39m=\u001b[39;49mnv_output_path, \n\u001b[1;32m      <a href='vscode-notebook-cell://attached-container%2B7b22636f6e7461696e65724e616d65223a222f7a656e5f627261686d616775707461227d@ssh-remote%2Bhoover.cs.ucl.ac.uk/home/sbonilla/gaussian-splatting/visualize_gaussian.ipynb#X24sdnNjb2RlLXJlbW90ZQ%3D%3D?line=4'>5</a>\u001b[0m                                    tilt_angle\u001b[39m=\u001b[39;49m\u001b[39m10\u001b[39;49m, \n\u001b[1;32m      <a href='vscode-notebook-cell://attached-container%2B7b22636f6e7461696e65724e616d65223a222f7a656e5f627261686d616775707461227d@ssh-remote%2Bhoover.cs.ucl.ac.uk/home/sbonilla/gaussian-splatting/visualize_gaussian.ipynb#X24sdnNjb2RlLXJlbW90ZQ%3D%3D?line=5'>6</a>\u001b[0m                                    fps\u001b[39m=\u001b[39;49m\u001b[39m15\u001b[39;49m)\n",
      "File \u001b[0;32m~/gaussian-splatting/utils/gaussian_viewing_utils.py:208\u001b[0m, in \u001b[0;36mrender_circular_conical_path_video\u001b[0;34m(model_path, center_camera_idx, num_views, tilt_angle, output_path, fps, iteration, sh_degree)\u001b[0m\n\u001b[1;32m    206\u001b[0m gaussians \u001b[39m=\u001b[39m load_checkpoint(model_path, sh_degree, iteration)\n\u001b[1;32m    207\u001b[0m center_camera \u001b[39m=\u001b[39m load_camera(model_path, center_camera_idx)\n\u001b[0;32m--> 208\u001b[0m cameras \u001b[39m=\u001b[39m circular_conical_cameras(center_camera, num_views, tilt_angle)\n\u001b[1;32m    209\u001b[0m background \u001b[39m=\u001b[39m torch\u001b[39m.\u001b[39mtensor([\u001b[39m0\u001b[39m, \u001b[39m0\u001b[39m, \u001b[39m0\u001b[39m], dtype\u001b[39m=\u001b[39mtorch\u001b[39m.\u001b[39mfloat32, device\u001b[39m=\u001b[39m\u001b[39m\"\u001b[39m\u001b[39mcuda\u001b[39m\u001b[39m\"\u001b[39m)\n\u001b[1;32m    210\u001b[0m pipeline \u001b[39m=\u001b[39m PipelineParamsNoparse()\n",
      "File \u001b[0;32m~/gaussian-splatting/utils/gaussian_viewing_utils.py:183\u001b[0m, in \u001b[0;36mcircular_conical_cameras\u001b[0;34m(center_camera, num_views, tilt_angle)\u001b[0m\n\u001b[1;32m    171\u001b[0m \u001b[39m\u001b[39m\u001b[39m\"\"\"\u001b[39;00m\n\u001b[1;32m    172\u001b[0m \u001b[39mCreate a circular motion about Z axis Rotation and Translation vectors around a fixed center point. \u001b[39;00m\n\u001b[1;32m    173\u001b[0m \n\u001b[0;32m   (...)\u001b[0m\n\u001b[1;32m    180\u001b[0m \u001b[39m    cameras: list of GSCamera objects\u001b[39;00m\n\u001b[1;32m    181\u001b[0m \u001b[39m\"\"\"\u001b[39;00m\n\u001b[1;32m    182\u001b[0m cameras \u001b[39m=\u001b[39m []\n\u001b[0;32m--> 183\u001b[0m R, T \u001b[39m=\u001b[39m create_spiral_poses(num_views, tilt_angle)\n\u001b[1;32m    184\u001b[0m \u001b[39mfor\u001b[39;00m i \u001b[39min\u001b[39;00m \u001b[39mrange\u001b[39m(num_views):\n\u001b[1;32m    185\u001b[0m     cameras\u001b[39m.\u001b[39mappend(new_camera(center_camera, R[i], T[i]))\n",
      "File \u001b[0;32m~/gaussian-splatting/utils/gaussian_viewing_utils.py:156\u001b[0m, in \u001b[0;36mcreate_spiral_poses\u001b[0;34m(num_views, tilt_angle, radius, height, n_loops)\u001b[0m\n\u001b[1;32m    153\u001b[0m R_z \u001b[39m=\u001b[39m np\u001b[39m.\u001b[39marray([(np\u001b[39m.\u001b[39mcos(t) \u001b[39m*\u001b[39m \u001b[39m0.5\u001b[39m) \u001b[39m-\u001b[39m \u001b[39m2\u001b[39m, \u001b[39m-\u001b[39mnp\u001b[39m.\u001b[39msin(t) \u001b[39m-\u001b[39m \u001b[39m0.5\u001b[39m, \u001b[39m-\u001b[39mnp\u001b[39m.\u001b[39msin(\u001b[39m0.5\u001b[39m \u001b[39m*\u001b[39m t) \u001b[39m*\u001b[39m \u001b[39m0.75\u001b[39m]) \u001b[39m*\u001b[39m radius\n\u001b[1;32m    155\u001b[0m \u001b[39m# reshape to 3x3 matrix\u001b[39;00m\n\u001b[0;32m--> 156\u001b[0m R_z \u001b[39m=\u001b[39m np\u001b[39m.\u001b[39;49mreshape(R_z, (\u001b[39m3\u001b[39;49m, \u001b[39m3\u001b[39;49m))\n\u001b[1;32m    158\u001b[0m \u001b[39m# Combine the Z-axis rotation with the tilt rotation\u001b[39;00m\n\u001b[1;32m    159\u001b[0m R_combined \u001b[39m=\u001b[39m R_z\n",
      "File \u001b[0;32m<__array_function__ internals>:200\u001b[0m, in \u001b[0;36mreshape\u001b[0;34m(*args, **kwargs)\u001b[0m\n",
      "File \u001b[0;32m~/anaconda3/envs/gaussian_splatting38/lib/python3.8/site-packages/numpy/core/fromnumeric.py:298\u001b[0m, in \u001b[0;36mreshape\u001b[0;34m(a, newshape, order)\u001b[0m\n\u001b[1;32m    198\u001b[0m \u001b[39m@array_function_dispatch\u001b[39m(_reshape_dispatcher)\n\u001b[1;32m    199\u001b[0m \u001b[39mdef\u001b[39;00m \u001b[39mreshape\u001b[39m(a, newshape, order\u001b[39m=\u001b[39m\u001b[39m'\u001b[39m\u001b[39mC\u001b[39m\u001b[39m'\u001b[39m):\n\u001b[1;32m    200\u001b[0m \u001b[39m    \u001b[39m\u001b[39m\"\"\"\u001b[39;00m\n\u001b[1;32m    201\u001b[0m \u001b[39m    Gives a new shape to an array without changing its data.\u001b[39;00m\n\u001b[1;32m    202\u001b[0m \n\u001b[0;32m   (...)\u001b[0m\n\u001b[1;32m    296\u001b[0m \u001b[39m           [5, 6]])\u001b[39;00m\n\u001b[1;32m    297\u001b[0m \u001b[39m    \"\"\"\u001b[39;00m\n\u001b[0;32m--> 298\u001b[0m     \u001b[39mreturn\u001b[39;00m _wrapfunc(a, \u001b[39m'\u001b[39;49m\u001b[39mreshape\u001b[39;49m\u001b[39m'\u001b[39;49m, newshape, order\u001b[39m=\u001b[39;49morder)\n",
      "File \u001b[0;32m~/anaconda3/envs/gaussian_splatting38/lib/python3.8/site-packages/numpy/core/fromnumeric.py:57\u001b[0m, in \u001b[0;36m_wrapfunc\u001b[0;34m(obj, method, *args, **kwds)\u001b[0m\n\u001b[1;32m     54\u001b[0m     \u001b[39mreturn\u001b[39;00m _wrapit(obj, method, \u001b[39m*\u001b[39margs, \u001b[39m*\u001b[39m\u001b[39m*\u001b[39mkwds)\n\u001b[1;32m     56\u001b[0m \u001b[39mtry\u001b[39;00m:\n\u001b[0;32m---> 57\u001b[0m     \u001b[39mreturn\u001b[39;00m bound(\u001b[39m*\u001b[39;49margs, \u001b[39m*\u001b[39;49m\u001b[39m*\u001b[39;49mkwds)\n\u001b[1;32m     58\u001b[0m \u001b[39mexcept\u001b[39;00m \u001b[39mTypeError\u001b[39;00m:\n\u001b[1;32m     59\u001b[0m     \u001b[39m# A TypeError occurs if the object does have such a method in its\u001b[39;00m\n\u001b[1;32m     60\u001b[0m     \u001b[39m# class, but its signature is not identical to that of NumPy's. This\u001b[39;00m\n\u001b[0;32m   (...)\u001b[0m\n\u001b[1;32m     64\u001b[0m     \u001b[39m# Call _wrapit from within the except clause to ensure a potential\u001b[39;00m\n\u001b[1;32m     65\u001b[0m     \u001b[39m# exception has a traceback chain.\u001b[39;00m\n\u001b[1;32m     66\u001b[0m     \u001b[39mreturn\u001b[39;00m _wrapit(obj, method, \u001b[39m*\u001b[39margs, \u001b[39m*\u001b[39m\u001b[39m*\u001b[39mkwds)\n",
      "\u001b[0;31mValueError\u001b[0m: cannot reshape array of size 3 into shape (3,3)"
     ]
    }
   ],
   "source": [
    "render_circular_conical_path_video(model_path=model_path, \n",
    "                                   num_views=num_views, \n",
    "                                   center_camera_idx=novel_view_camera_id, \n",
    "                                   output_path=nv_output_path, \n",
    "                                   tilt_angle=10, \n",
    "                                   fps=15)"
   ]
  },
  {
   "cell_type": "code",
   "execution_count": 26,
   "metadata": {},
   "outputs": [],
   "source": [
    "spiral = generate_spiral_cam_to_world(radii=[0.1, 0.1, 0.1], focus_depth=center_camera.FoVx, n_poses=120)"
   ]
  },
  {
   "cell_type": "code",
   "execution_count": 27,
   "metadata": {},
   "outputs": [],
   "source": [
    "cameras = []\n",
    "cameras.append(center_camera)\n",
    "for idx, row in enumerate(spiral):\n",
    "    new_R = np.matmul(row[:, :3], center_camera.R)\n",
    "    new_T = row[:, 3] + center_camera.T\n",
    "    cameras.append(GSCamera(colmap_id=idx,\n",
    "                            R=new_R, T=new_T, FoVx=center_camera.FoVx, FoVy=center_camera.FoVy, \n",
    "                            image=torch.zeros((3, center_camera.image_height, center_camera.image_width)),  \n",
    "                            gt_alpha_mask=None, image_name='fake', uid=0))"
   ]
  },
  {
   "cell_type": "markdown",
   "metadata": {},
   "source": [
    "find mean of all points in points3D"
   ]
  },
  {
   "cell_type": "code",
   "execution_count": 28,
   "metadata": {},
   "outputs": [],
   "source": [
    "images = []\n",
    "for camera in cameras:\n",
    "    render_res = render(camera, gaussians, pipeline, background)\n",
    "    rendering = render_res[\"render\"]\n",
    "    image = (rendering.permute(1, 2, 0) * 255).to(torch.uint8).detach().cpu().numpy()\n",
    "    images.append(image)"
   ]
  },
  {
   "cell_type": "code",
   "execution_count": 29,
   "metadata": {},
   "outputs": [
    {
     "name": "stdout",
     "output_type": "stream",
     "text": [
      "Moviepy - Building video /home/sbonilla/gaussian-splatting/output/f8df57c9-c/visualization/novel-views-around-camera-id0.mp4.\n",
      "Moviepy - Writing video /home/sbonilla/gaussian-splatting/output/f8df57c9-c/visualization/novel-views-around-camera-id0.mp4\n",
      "\n"
     ]
    },
    {
     "name": "stderr",
     "output_type": "stream",
     "text": [
      "                                                              \r"
     ]
    },
    {
     "name": "stdout",
     "output_type": "stream",
     "text": [
      "Moviepy - Done !\n",
      "Moviepy - video ready /home/sbonilla/gaussian-splatting/output/f8df57c9-c/visualization/novel-views-around-camera-id0.mp4\n",
      "Video saved to /home/sbonilla/gaussian-splatting/output/f8df57c9-c/visualization/novel-views-around-camera-id0.mp4\n"
     ]
    }
   ],
   "source": [
    "clip = ImageSequenceClip(list(images), fps=20)\n",
    "clip.write_videofile(nv_output_path, codec='libx264', audio=False)\n",
    "print(f'Video saved to {nv_output_path}')"
   ]
  },
  {
   "cell_type": "code",
   "execution_count": 7,
   "metadata": {},
   "outputs": [
    {
     "name": "stdout",
     "output_type": "stream",
     "text": [
      "Moviepy - Building video /home/sbonilla/gaussian-splatting/output/f8df57c9-c/visualization/spiral-path.mp4.\n",
      "Moviepy - Writing video /home/sbonilla/gaussian-splatting/output/f8df57c9-c/visualization/spiral-path.mp4\n",
      "\n"
     ]
    },
    {
     "name": "stderr",
     "output_type": "stream",
     "text": [
      "                                                              \r"
     ]
    },
    {
     "name": "stdout",
     "output_type": "stream",
     "text": [
      "Moviepy - Done !\n",
      "Moviepy - video ready /home/sbonilla/gaussian-splatting/output/f8df57c9-c/visualization/spiral-path.mp4\n",
      "Video saved to /home/sbonilla/gaussian-splatting/output/f8df57c9-c/visualization/spiral-path.mp4\n"
     ]
    }
   ],
   "source": [
    "center_camera_idx = 50\n",
    "fps = 20\n",
    "output_path = f'/home/sbonilla/gaussian-splatting/output/f8df57c9-c/visualization/spiral-path.mp4'\n",
    "render_spiral_path_video(model_path, center_camera_idx, fps, output_path, n_poses=120, n_rotations=2, radius=4, iteration=-1, sh_degree=3)"
   ]
  },
  {
   "cell_type": "code",
   "execution_count": null,
   "metadata": {},
   "outputs": [],
   "source": []
  }
 ],
 "metadata": {
  "kernelspec": {
   "display_name": "Python 3 (ipykernel)",
   "language": "python",
   "name": "python3"
  },
  "language_info": {
   "codemirror_mode": {
    "name": "ipython",
    "version": 3
   },
   "file_extension": ".py",
   "mimetype": "text/x-python",
   "name": "python",
   "nbconvert_exporter": "python",
   "pygments_lexer": "ipython3",
   "version": "3.8.18"
  }
 },
 "nbformat": 4,
 "nbformat_minor": 4
}
